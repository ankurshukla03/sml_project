{
 "cells": [
  {
   "cell_type": "markdown",
   "metadata": {},
   "source": [
    "## Analysis and Classification of Song dataset\n",
    "This notebook contains the instructions for the mini project on classiﬁcation for the course [Statistical Machine Learning](http://www.it.uu.se/edu/course/homepage/sml), 1RT700. The problem is to classify a set of 200 songs, and predict whether Andreas Lindholm(Course Instructor) would like them or not, with the help from a training data set with 750 songs. \n",
    "We are expected to (i) try some (or all) classiﬁcation methods from the course and evaluate their performance on the problem, and (ii) make a decision which one to use and ‘put in production’ by uploading your predictions to [this](http://www.it.uu.se/edu/course/homepage/sml/project/submit/) website."
   ]
  },
  {
   "cell_type": "code",
   "execution_count": 1,
   "metadata": {},
   "outputs": [],
   "source": [
    "import pandas as pd\n",
    "import seaborn\n",
    "import numpy as np\n",
    "from matplotlib import pyplot as plt"
   ]
  },
  {
   "cell_type": "markdown",
   "metadata": {},
   "source": [
    "## Dataset Visualisation and Number of features\n",
    "Make sure to check the path before reading the training and test file. The dataset consist of a total of 750 samples and 13 features and a labe associative to it(14 features in total). Test dataset consist of 200 samples for which we need to predict the label."
   ]
  },
  {
   "cell_type": "code",
   "execution_count": 10,
   "metadata": {},
   "outputs": [],
   "source": [
    "train_path = 'data/training_data.csv'\n",
    "test_path = 'data/songs_to_classify.csv'"
   ]
  },
  {
   "cell_type": "code",
   "execution_count": 11,
   "metadata": {},
   "outputs": [
    {
     "name": "stdout",
     "output_type": "stream",
     "text": [
      "Total number of samples in training dataset: \t750\n",
      "Total number of features: \t14\n",
      "Total number of samples in test dataset: \t200\n"
     ]
    }
   ],
   "source": [
    "df_train = pd.read_csv(train_path)\n",
    "df_test = pd.read_csv(test_path)\n",
    "\n",
    "print('Total number of samples in training dataset: \\t%s' % df_train.shape[0])\n",
    "print('Total number of features: \\t%s' % len(df_train.columns.values))\n",
    "print('Total number of samples in test dataset: \\t%s' % df_test.shape[0])"
   ]
  },
  {
   "cell_type": "code",
   "execution_count": 9,
   "metadata": {},
   "outputs": [
    {
     "data": {
      "text/html": [
       "<div>\n",
       "<style scoped>\n",
       "    .dataframe tbody tr th:only-of-type {\n",
       "        vertical-align: middle;\n",
       "    }\n",
       "\n",
       "    .dataframe tbody tr th {\n",
       "        vertical-align: top;\n",
       "    }\n",
       "\n",
       "    .dataframe thead th {\n",
       "        text-align: right;\n",
       "    }\n",
       "</style>\n",
       "<table border=\"1\" class=\"dataframe\">\n",
       "  <thead>\n",
       "    <tr style=\"text-align: right;\">\n",
       "      <th></th>\n",
       "      <th>acousticness</th>\n",
       "      <th>danceability</th>\n",
       "      <th>duration</th>\n",
       "      <th>energy</th>\n",
       "      <th>instrumentalness</th>\n",
       "      <th>key</th>\n",
       "      <th>liveness</th>\n",
       "      <th>loudness</th>\n",
       "      <th>mode</th>\n",
       "      <th>speechiness</th>\n",
       "      <th>tempo</th>\n",
       "      <th>time_signature</th>\n",
       "      <th>valence</th>\n",
       "      <th>label</th>\n",
       "    </tr>\n",
       "  </thead>\n",
       "  <tbody>\n",
       "    <tr>\n",
       "      <th>0</th>\n",
       "      <td>0.713</td>\n",
       "      <td>0.514</td>\n",
       "      <td>100125</td>\n",
       "      <td>0.521</td>\n",
       "      <td>0.816000</td>\n",
       "      <td>8</td>\n",
       "      <td>0.1120</td>\n",
       "      <td>-14.835</td>\n",
       "      <td>0</td>\n",
       "      <td>0.0444</td>\n",
       "      <td>119.879</td>\n",
       "      <td>4</td>\n",
       "      <td>0.143</td>\n",
       "      <td>1</td>\n",
       "    </tr>\n",
       "    <tr>\n",
       "      <th>1</th>\n",
       "      <td>0.192</td>\n",
       "      <td>0.714</td>\n",
       "      <td>207019</td>\n",
       "      <td>0.614</td>\n",
       "      <td>0.000000</td>\n",
       "      <td>4</td>\n",
       "      <td>0.2630</td>\n",
       "      <td>-6.935</td>\n",
       "      <td>1</td>\n",
       "      <td>0.0319</td>\n",
       "      <td>123.969</td>\n",
       "      <td>4</td>\n",
       "      <td>0.582</td>\n",
       "      <td>1</td>\n",
       "    </tr>\n",
       "    <tr>\n",
       "      <th>2</th>\n",
       "      <td>0.333</td>\n",
       "      <td>0.630</td>\n",
       "      <td>216200</td>\n",
       "      <td>0.455</td>\n",
       "      <td>0.000004</td>\n",
       "      <td>5</td>\n",
       "      <td>0.1270</td>\n",
       "      <td>-9.290</td>\n",
       "      <td>1</td>\n",
       "      <td>0.0292</td>\n",
       "      <td>139.931</td>\n",
       "      <td>4</td>\n",
       "      <td>0.199</td>\n",
       "      <td>1</td>\n",
       "    </tr>\n",
       "    <tr>\n",
       "      <th>3</th>\n",
       "      <td>0.601</td>\n",
       "      <td>0.810</td>\n",
       "      <td>136413</td>\n",
       "      <td>0.221</td>\n",
       "      <td>0.210000</td>\n",
       "      <td>5</td>\n",
       "      <td>0.1840</td>\n",
       "      <td>-11.005</td>\n",
       "      <td>1</td>\n",
       "      <td>0.0429</td>\n",
       "      <td>109.960</td>\n",
       "      <td>4</td>\n",
       "      <td>0.798</td>\n",
       "      <td>1</td>\n",
       "    </tr>\n",
       "    <tr>\n",
       "      <th>4</th>\n",
       "      <td>0.883</td>\n",
       "      <td>0.465</td>\n",
       "      <td>181440</td>\n",
       "      <td>0.459</td>\n",
       "      <td>0.000173</td>\n",
       "      <td>6</td>\n",
       "      <td>0.0692</td>\n",
       "      <td>-8.137</td>\n",
       "      <td>0</td>\n",
       "      <td>0.0351</td>\n",
       "      <td>90.807</td>\n",
       "      <td>4</td>\n",
       "      <td>0.288</td>\n",
       "      <td>1</td>\n",
       "    </tr>\n",
       "  </tbody>\n",
       "</table>\n",
       "</div>"
      ],
      "text/plain": [
       "   acousticness  danceability  duration  energy  instrumentalness  key  \\\n",
       "0         0.713         0.514    100125   0.521          0.816000    8   \n",
       "1         0.192         0.714    207019   0.614          0.000000    4   \n",
       "2         0.333         0.630    216200   0.455          0.000004    5   \n",
       "3         0.601         0.810    136413   0.221          0.210000    5   \n",
       "4         0.883         0.465    181440   0.459          0.000173    6   \n",
       "\n",
       "   liveness  loudness  mode  speechiness    tempo  time_signature  valence  \\\n",
       "0    0.1120   -14.835     0       0.0444  119.879               4    0.143   \n",
       "1    0.2630    -6.935     1       0.0319  123.969               4    0.582   \n",
       "2    0.1270    -9.290     1       0.0292  139.931               4    0.199   \n",
       "3    0.1840   -11.005     1       0.0429  109.960               4    0.798   \n",
       "4    0.0692    -8.137     0       0.0351   90.807               4    0.288   \n",
       "\n",
       "   label  \n",
       "0      1  \n",
       "1      1  \n",
       "2      1  \n",
       "3      1  \n",
       "4      1  "
      ]
     },
     "execution_count": 9,
     "metadata": {},
     "output_type": "execute_result"
    }
   ],
   "source": [
    "df_train.head()"
   ]
  },
  {
   "cell_type": "code",
   "execution_count": 17,
   "metadata": {},
   "outputs": [],
   "source": [
    "# Below method checks returns the boolean result for each of the column in dataframe telling whether it has null value or not\n",
    "def null_column(df):\n",
    "    return df.isnull().any()"
   ]
  },
  {
   "cell_type": "markdown",
   "metadata": {},
   "source": [
    "We can check the result returned by null_column function for training dataset that it doesn't have any value as Nan."
   ]
  },
  {
   "cell_type": "code",
   "execution_count": 18,
   "metadata": {},
   "outputs": [
    {
     "data": {
      "text/plain": [
       "acousticness        False\n",
       "danceability        False\n",
       "duration            False\n",
       "energy              False\n",
       "instrumentalness    False\n",
       "key                 False\n",
       "liveness            False\n",
       "loudness            False\n",
       "mode                False\n",
       "speechiness         False\n",
       "tempo               False\n",
       "time_signature      False\n",
       "valence             False\n",
       "label               False\n",
       "dtype: bool"
      ]
     },
     "execution_count": 18,
     "metadata": {},
     "output_type": "execute_result"
    }
   ],
   "source": [
    "null_column(df_train)"
   ]
  },
  {
   "cell_type": "markdown",
   "metadata": {},
   "source": [
    "## Data Normalization\n",
    "Normalization refers to the process of standardizing the values of independent features of a dataset. Since many of the machine learning techniques use distance to compute the difference between two or more distinct samples, a feature within these samples that has a broad range of values will dominate the process. In order to avoid this, the range of all features are normalized so that each feature contributes approximately proportionately to the computation."
   ]
  },
  {
   "cell_type": "code",
   "execution_count": 21,
   "metadata": {},
   "outputs": [],
   "source": [
    "from sklearn.preprocessing import normalize\n",
    "\n",
    "# Separate features from their labels\n",
    "features = [x != 'label' for x in df_train.columns.values]\n",
    "all_values = df_train.loc[:, features].values\n",
    "all_labels = df_train.loc[:,['label']].values\n",
    "\n",
    "# Scale values (mean = 0 and variance = 1)\n",
    "all_values =  normalize(all_values, axis=1)"
   ]
  },
  {
   "cell_type": "markdown",
   "metadata": {},
   "source": [
    "## Class Imbalance\n",
    "\n",
    "Class imbalance refers to the phenomenon where some classes (labels) of a dataset have more samples than others. This is a problem because the machine learning algorithms will tend to focus on the classification of the samples that are overrepresented while ignoring or misclassifying the underrepresented samples."
   ]
  },
  {
   "cell_type": "code",
   "execution_count": 31,
   "metadata": {},
   "outputs": [
    {
     "name": "stdout",
     "output_type": "stream",
     "text": [
      "Percentage of label 1 in training dataset is 0.6026666666666667\n",
      "Percentage of label 0 in training dataset is 0.3973333333333333\n"
     ]
    }
   ],
   "source": [
    "ones,zeros = df_train.label.value_counts()\n",
    "\n",
    "print('Percentage of label 1 in training dataset is {}'.format(ones/df_train.shape[0]))\n",
    "print('Percentage of label 0 in training dataset is {}'.format(zeros/df_train.shape[0]))"
   ]
  },
  {
   "cell_type": "markdown",
   "metadata": {},
   "source": [
    "From the output above we can see the dataset has a bit of class imbalance problem. The Label 1 has 452 samples, while Label 0 has only 298. It is a binary classification problem but still "
   ]
  }
 ],
 "metadata": {
  "kernelspec": {
   "display_name": "Python 3",
   "language": "python",
   "name": "python3"
  },
  "language_info": {
   "codemirror_mode": {
    "name": "ipython",
    "version": 3
   },
   "file_extension": ".py",
   "mimetype": "text/x-python",
   "name": "python",
   "nbconvert_exporter": "python",
   "pygments_lexer": "ipython3",
   "version": "3.6.6"
  }
 },
 "nbformat": 4,
 "nbformat_minor": 2
}
